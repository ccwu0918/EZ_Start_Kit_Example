{
  "cells": [
    {
      "cell_type": "markdown",
      "metadata": {
        "id": "view-in-github",
        "colab_type": "text"
      },
      "source": [
        "<a href=\"https://colab.research.google.com/github/ccwu0918/EZ_Start_Kit_Example/blob/main/MQTT_DHT11_Relay_PHR_VR_LED/mqtt_sub.ipynb\" target=\"_parent\"><img src=\"https://colab.research.google.com/assets/colab-badge.svg\" alt=\"Open In Colab\"/></a>"
      ]
    },
    {
      "cell_type": "markdown",
      "metadata": {
        "id": "rMG0anSkWx7f"
      },
      "source": [
        "\n",
        "\n",
        "```\n",
        "mqtt_sub.py\n",
        "version: 1.2  @2022/07/13\n",
        "Wenchin Hsieh @Goomo.Net Studio, wenchin@goomo.net\n",
        "References: https://wiki.goomo.net/doku.php/maker/faceidentify/mqttpython\n",
        "在 cmd 之下執行 python mqtt_sub.py\n",
        "需修改 topic_FaceID 和 topic_ALL\n",
        "```\n",
        "\n"
      ]
    },
    {
      "cell_type": "code",
      "execution_count": null,
      "metadata": {
        "colab": {
          "base_uri": "https://localhost:8080/"
        },
        "id": "xqscOziKW-7y",
        "outputId": "7e246230-c001-44c8-d3e6-af3e874eb503"
      },
      "outputs": [
        {
          "name": "stdout",
          "output_type": "stream",
          "text": [
            "Looking in indexes: https://pypi.org/simple, https://us-python.pkg.dev/colab-wheels/public/simple/\n",
            "Collecting paho-mqtt\n",
            "  Downloading paho-mqtt-1.6.1.tar.gz (99 kB)\n",
            "\u001b[K     |████████████████████████████████| 99 kB 3.7 MB/s \n",
            "\u001b[?25hBuilding wheels for collected packages: paho-mqtt\n",
            "  Building wheel for paho-mqtt (setup.py) ... \u001b[?25l\u001b[?25hdone\n",
            "  Created wheel for paho-mqtt: filename=paho_mqtt-1.6.1-py3-none-any.whl size=62133 sha256=ad7fa26199f6aa2ab13b60893765bc3ec1b2287fb6c7e783a0cf4513465fccab\n",
            "  Stored in directory: /root/.cache/pip/wheels/d0/bf/ac/2b3f43f8c6fcd0f4ba5395397458c521eb0b52d33b574a5a40\n",
            "Successfully built paho-mqtt\n",
            "Installing collected packages: paho-mqtt\n",
            "Successfully installed paho-mqtt-1.6.1\n"
          ]
        }
      ],
      "source": [
        "!pip install paho-mqtt"
      ]
    },
    {
      "cell_type": "code",
      "execution_count": null,
      "metadata": {
        "colab": {
          "background_save": true,
          "base_uri": "https://localhost:8080/"
        },
        "id": "WwHAOrreWqXB",
        "outputId": "6eb67f03-383b-4344-fe84-708aab3f042d"
      },
      "outputs": [
        {
          "name": "stdout",
          "output_type": "stream",
          "text": [
            "\n",
            "按下 [Esc]鍵 可結束程式 !\n",
            "\n",
            "Connected with result code 0\n"
          ]
        }
      ],
      "source": [
        "import sys, time\n",
        "# import msvcrt\n",
        "import paho.mqtt.client as mqtt\n",
        "\n",
        "# 參數設定\n",
        "#mqtt_server = \"test.mosquitto.org\"\n",
        "mqtt_server  = \"mqttgo.io\"\n",
        "#mqtt_user   = \"my_name\"\n",
        "#mqtt_pwd    = \"my_password\"\n",
        "topic_FaceID = \"MakerBase/YourName/FaceID\"\n",
        "topic_ALL    = \"MakerBase/YourName/#\"\n",
        "MQTT_LOOP_Interval = 0.05\n",
        "\n",
        "\n",
        "# The callback for when the client receives a CONNACK response from the server.\n",
        "def on_connect(client, userdata, flags, rc):\n",
        "    print(\"Connected with result code \"+str(rc))\n",
        "\n",
        "    # Subscribing in on_connect() means that if we lose the connection and reconnect then subscriptions will be renewed.\n",
        "    client.subscribe(topic_FaceID)\n",
        "    #client.subscribe(topic_ALL)\n",
        "\n",
        "# The callback for when a PUBLISH message is received from the server.\n",
        "def on_message(client, userdata, msg):\n",
        "    mp = msg.payload.decode('ascii')\n",
        "    print(\"TOPIC: [\" + msg.topic + \"], MESSAGE: \" + mp + \"]\")\n",
        "\n",
        "\n",
        "# MQTT 連線準備\n",
        "mqclient = mqtt.Client()\n",
        "mqclient.on_connect = on_connect\n",
        "mqclient.on_message = on_message\n",
        "#client.username_pw_set(username=MQTT_USER, password=MQTT_PWD)  # 若無需使用者帳密，則直接刪除本行！\n",
        "mqclient.connect_async(mqtt_server, 1883, 60)  #  連結 MQTT Server，指定以 非同步模式 執行 MQTT Message 傳入檢查。\n",
        "mqclient.loop_start()\n",
        "\n",
        "\n",
        "# MQTT Subscribe ，同時等待使用者按 ESC 退出\n",
        "print(\"\\n按下 [Esc]鍵 可結束程式 !\\n\", )\n",
        "\n",
        "while True:\n",
        "    mqclient.loop()      # 無需執行 等待式檢查，已由 loop_async() 非同步模式 取代。\n",
        "    # if msvcrt.kbhit():  # Key Pressed\n",
        "    #     if msvcrt.getch() == b'\\x1b':  # [Esc] Key\n",
        "    #         break\n",
        "    # time.sleep(MQTT_LOOP_Interval)\n",
        "\n",
        "\n",
        "# Release All Handlers 以結束程式\n",
        "mqclient.loop_stop()\n",
        "mqclient.disconnect()"
      ]
    }
  ],
  "metadata": {
    "colab": {
      "provenance": [],
      "authorship_tag": "ABX9TyPwAmrm7c5gSsE1yWg27f5c",
      "include_colab_link": true
    },
    "kernelspec": {
      "display_name": "Python 3",
      "name": "python3"
    },
    "language_info": {
      "name": "python"
    }
  },
  "nbformat": 4,
  "nbformat_minor": 0
}